{
 "cells": [
  {
   "cell_type": "code",
   "execution_count": 1,
   "metadata": {},
   "outputs": [],
   "source": [
    "%config IPCompleter.greedy=True"
   ]
  },
  {
   "cell_type": "code",
   "execution_count": 2,
   "metadata": {},
   "outputs": [],
   "source": [
    "from pyspark import SparkContext\n",
    "import findspark as fs\n",
    "import re\n",
    "import random"
   ]
  },
  {
   "cell_type": "code",
   "execution_count": 3,
   "metadata": {},
   "outputs": [],
   "source": [
    "fs.init()\n",
    "sc = SparkContext(appName=\"Graphs\")"
   ]
  },
  {
   "cell_type": "markdown",
   "metadata": {},
   "source": [
    "## Exercise 31"
   ]
  },
  {
   "cell_type": "code",
   "execution_count": 4,
   "metadata": {},
   "outputs": [],
   "source": [
    "# generate file with graph\n",
    "vertices = random.randint(100, 1000)\n",
    "\n",
    "with open('./data/graph.txt', 'w') as f:\n",
    "    f.write('[\\n')\n",
    "    for v in range(1, vertices+1):\n",
    "        neighbours = []\n",
    "        neighbours_count = random.randint(1, 10)\n",
    "\n",
    "        while len(neighbours) < neighbours_count:\n",
    "            next = random.randint(1, vertices)\n",
    "            \n",
    "            if next not in neighbours:\n",
    "                neighbours.append(next)\n",
    "        \n",
    "        neighbours.sort()\n",
    "        \n",
    "        f.write(str([v, neighbours]) + ',\\n')\n",
    "    \n",
    "    f.write(']\\n')"
   ]
  },
  {
   "cell_type": "code",
   "execution_count": 5,
   "metadata": {},
   "outputs": [],
   "source": [
    "def get_edges(row):\n",
    "    res = re.search(r'\\[(\\d+), \\[([\\d, ]+)\\]\\]', row)\n",
    "    print(res)\n",
    "    return (res.group(1), res.group(2).split(','))"
   ]
  },
  {
   "cell_type": "code",
   "execution_count": 6,
   "metadata": {},
   "outputs": [
    {
     "data": {
      "text/plain": [
       "[(' 100', ['11', '528']),\n",
       " (' 101', ['196', '387', '531']),\n",
       " (' 102', ['88', '387', '453', '536']),\n",
       " (' 103', ['11', '51', '116', '400', '613']),\n",
       " (' 104', ['119', '177', '254', '362', '536']),\n",
       " (' 105', ['305', '379']),\n",
       " (' 106', ['26', '63', '186', '247', '398']),\n",
       " (' 107', ['24', '224', '362', '434']),\n",
       " (' 108', ['88', '89', '512', '634']),\n",
       " (' 109', ['51', '475'])]"
      ]
     },
     "execution_count": 6,
     "metadata": {},
     "output_type": "execute_result"
    }
   ],
   "source": [
    "edges = sc.textFile('./data/graph.txt').filter(lambda row: ',' in row).map(get_edges)\n",
    "mapped = edges.flatMap(lambda pair: [(v, pair[0]) for v in pair[1]])\n",
    "groupped = mapped.groupByKey().map(lambda pair: (pair[0], list(pair[1]))).sortByKey()\n",
    "groupped.collect()[0:10]"
   ]
  },
  {
   "cell_type": "markdown",
   "metadata": {},
   "source": [
    "## Exercise 36"
   ]
  },
  {
   "cell_type": "code",
   "execution_count": 7,
   "metadata": {},
   "outputs": [],
   "source": [
    "def map_vertices(row):\n",
    "    splitted = row.split()\n",
    "    return (splitted[0], splitted[1])"
   ]
  },
  {
   "cell_type": "code",
   "execution_count": 8,
   "metadata": {},
   "outputs": [],
   "source": [
    "edges = sc.textFile('./data/stanford_graph.txt').map(map_vertices) # (v1 -> v2)"
   ]
  },
  {
   "cell_type": "code",
   "execution_count": 9,
   "metadata": {},
   "outputs": [],
   "source": [
    "in_out_pairs = edges.flatMap(lambda pair: [(pair[0], 'out'), (pair[1], 'in')]) # [(v1, 'out'), (v2, 'in')]"
   ]
  },
  {
   "cell_type": "code",
   "execution_count": 10,
   "metadata": {},
   "outputs": [],
   "source": [
    "counted_pairs = in_out_pairs.map(lambda x: (x, 1)).reduceByKey(lambda a, b: a + b) # ((v, 'out/in'), 1) -> aggregate by key ((v, 'out/in'), m)"
   ]
  },
  {
   "cell_type": "code",
   "execution_count": 11,
   "metadata": {},
   "outputs": [],
   "source": [
    "sorted_pairs = counted_pairs.sortBy(lambda pair: pair[0][1], ascending=True) # ['in', 'in', ..., 'out', 'out']"
   ]
  },
  {
   "cell_type": "code",
   "execution_count": 12,
   "metadata": {},
   "outputs": [],
   "source": [
    "pairs_with_edge_as_key = sorted_pairs.map(lambda pair: (pair[0][0], (pair[0][1], pair[1]))) # (v, ('in/out', n))"
   ]
  },
  {
   "cell_type": "code",
   "execution_count": 13,
   "metadata": {},
   "outputs": [],
   "source": [
    "grouped_pairs = pairs_with_edge_as_key.groupByKey() # (v, [('in', n), ('out', m)])"
   ]
  },
  {
   "cell_type": "code",
   "execution_count": 14,
   "metadata": {},
   "outputs": [],
   "source": [
    "def get_triplet(pair):\n",
    "    counted = list(pair[1])\n",
    "    \n",
    "    if len(counted) == 2:\n",
    "        return (pair[0], counted[0][1], counted[1][1])\n",
    "    elif counted[0][0] == 'in':\n",
    "        return (pair[0], counted[0][1], 0)\n",
    "    else:\n",
    "        return (pair[0], 0, counted[0][1])"
   ]
  },
  {
   "cell_type": "code",
   "execution_count": 15,
   "metadata": {},
   "outputs": [
    {
     "data": {
      "text/plain": [
       "[('15409', 3, 1),\n",
       " ('17794', 2, 1),\n",
       " ('25202', 2, 1),\n",
       " ('53625', 2, 1),\n",
       " ('54582', 2, 1)]"
      ]
     },
     "execution_count": 15,
     "metadata": {},
     "output_type": "execute_result"
    }
   ],
   "source": [
    "vertices_set = grouped_pairs.map(get_triplet) # (v, n, m)\n",
    "vertices_set.take(5)"
   ]
  },
  {
   "cell_type": "code",
   "execution_count": 16,
   "metadata": {},
   "outputs": [
    {
     "data": {
      "text/plain": [
       "8.203165627893243"
      ]
     },
     "execution_count": 16,
     "metadata": {},
     "output_type": "execute_result"
    }
   ],
   "source": [
    "mapped_vertices = vertices_set.map(lambda x: (x[1], 1))\n",
    "mapped_vertices.reduce(lambda a, b: ((a[0] * a[1] + b[0] * b[1]) / (a[1] + b[1]), a[1] + b[1]))[0]"
   ]
  },
  {
   "cell_type": "code",
   "execution_count": 17,
   "metadata": {},
   "outputs": [
    {
     "data": {
      "text/plain": [
       "8.2031656278933"
      ]
     },
     "execution_count": 17,
     "metadata": {},
     "output_type": "execute_result"
    }
   ],
   "source": [
    "mapped_vertices = vertices_set.map(lambda x: (x[2], 1))\n",
    "mapped_vertices.reduce(lambda a, b: ((a[0] * a[1] + b[0] * b[1]) / (a[1] + b[1]), a[1] + b[1]))[0]"
   ]
  },
  {
   "cell_type": "markdown",
   "metadata": {},
   "source": [
    "# Exercise 37"
   ]
  },
  {
   "cell_type": "code",
   "execution_count": 18,
   "metadata": {},
   "outputs": [],
   "source": [
    "data = sc.textFile('./data/stanford_graph.txt')"
   ]
  },
  {
   "cell_type": "code",
   "execution_count": 19,
   "metadata": {},
   "outputs": [],
   "source": [
    "def to_pairs(line):\n",
    "    vs = line.split('\\t')\n",
    "    v0 = int(vs[0])\n",
    "    v1 = int(vs[1])\n",
    "    \n",
    "    return (\n",
    "        [v0, [v1]],\n",
    "        [v1, [v0]]\n",
    "    )"
   ]
  },
  {
   "cell_type": "code",
   "execution_count": 20,
   "metadata": {},
   "outputs": [],
   "source": [
    "graph = data.flatMap(to_pairs)\n",
    "graph = graph.reduceByKey(lambda adjs1, adjs2: adjs1 + adjs2)\n",
    "graph = graph.reduceByKey(set)\n",
    "graph = graph.sortByKey()"
   ]
  },
  {
   "cell_type": "code",
   "execution_count": 21,
   "metadata": {},
   "outputs": [],
   "source": [
    "adjs = graph.collectAsMap()"
   ]
  },
  {
   "cell_type": "code",
   "execution_count": 22,
   "metadata": {},
   "outputs": [],
   "source": [
    "degs = graph.mapValues(len).collectAsMap()"
   ]
  },
  {
   "cell_type": "code",
   "execution_count": 23,
   "metadata": {},
   "outputs": [],
   "source": [
    "br_adjs = sc.broadcast(adjs)"
   ]
  },
  {
   "cell_type": "code",
   "execution_count": 24,
   "metadata": {},
   "outputs": [],
   "source": [
    "def calc_clustering_coeff(v, deg):\n",
    "    denom = deg * (deg - 1.0)\n",
    "    \n",
    "    if denom == 0:\n",
    "        return 0\n",
    "    \n",
    "    triangles = 0\n",
    "    \n",
    "    for u in br_adjs.value[v]:\n",
    "        for w in br_adjs.value[v]:\n",
    "            if w in br_adjs.value[u]:\n",
    "                triangles += 1\n",
    "    \n",
    "    return triangles / denom"
   ]
  },
  {
   "cell_type": "code",
   "execution_count": 25,
   "metadata": {},
   "outputs": [],
   "source": [
    "vertices = graph.keys()"
   ]
  },
  {
   "cell_type": "code",
   "execution_count": 26,
   "metadata": {},
   "outputs": [],
   "source": [
    "result = vertices.map(lambda v: (v, calc_clustering_coeff(v, degs[v]), degs[v]))"
   ]
  },
  {
   "cell_type": "code",
   "execution_count": 27,
   "metadata": {},
   "outputs": [
    {
     "data": {
      "text/plain": [
       "[(1, 0.0, 2),\n",
       " (2, 0.000594059405940594, 101),\n",
       " (3, 0.0, 2),\n",
       " (4, 0.6666666666666666, 4),\n",
       " (5, 0.8444444444444444, 10),\n",
       " (6, 0.0, 4),\n",
       " (7, 0.0, 7),\n",
       " (8, 0.8571428571428571, 7),\n",
       " (9, 1.0, 2),\n",
       " (10, 0.4, 5)]"
      ]
     },
     "execution_count": 27,
     "metadata": {},
     "output_type": "execute_result"
    }
   ],
   "source": [
    "result.take(10)"
   ]
  },
  {
   "cell_type": "code",
   "execution_count": 28,
   "metadata": {},
   "outputs": [
    {
     "data": {
      "text/plain": [
       "[0.0,\n",
       " 0.000594059405940594,\n",
       " 0.0,\n",
       " 0.6666666666666666,\n",
       " 0.8444444444444444,\n",
       " 0.0,\n",
       " 0.0,\n",
       " 0.8571428571428571,\n",
       " 1.0,\n",
       " 0.4]"
      ]
     },
     "execution_count": 28,
     "metadata": {},
     "output_type": "execute_result"
    }
   ],
   "source": [
    "coeffs = result.map(lambda triplet: triplet[1])\n",
    "coeffs.take(10)"
   ]
  },
  {
   "cell_type": "code",
   "execution_count": 29,
   "metadata": {},
   "outputs": [],
   "source": [
    "avg = coeffs.mean()"
   ]
  },
  {
   "cell_type": "code",
   "execution_count": 30,
   "metadata": {},
   "outputs": [
    {
     "name": "stdout",
     "output_type": "stream",
     "text": [
      "0.5976304608027554\n"
     ]
    }
   ],
   "source": [
    "print(avg)"
   ]
  },
  {
   "cell_type": "code",
   "execution_count": null,
   "metadata": {},
   "outputs": [],
   "source": []
  }
 ],
 "metadata": {
  "kernelspec": {
   "display_name": "Python 3",
   "language": "python",
   "name": "python3"
  },
  "language_info": {
   "codemirror_mode": {
    "name": "ipython",
    "version": 3
   },
   "file_extension": ".py",
   "mimetype": "text/x-python",
   "name": "python",
   "nbconvert_exporter": "python",
   "pygments_lexer": "ipython3",
   "version": "3.8.6"
  }
 },
 "nbformat": 4,
 "nbformat_minor": 4
}
