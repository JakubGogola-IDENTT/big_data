{
 "cells": [
  {
   "cell_type": "code",
   "execution_count": 1,
   "metadata": {},
   "outputs": [],
   "source": [
    "%config IPCompleter.greedy=True"
   ]
  },
  {
   "cell_type": "code",
   "execution_count": 22,
   "metadata": {},
   "outputs": [],
   "source": [
    "import string\n",
    "from collections import Counter\n",
    "import time\n",
    "import profile"
   ]
  },
  {
   "cell_type": "code",
   "execution_count": 28,
   "metadata": {},
   "outputs": [],
   "source": [
    "def get_data():\n",
    "    with open('../data/cobc.txt') as f:\n",
    "        words = []\n",
    "\n",
    "        for line in f:\n",
    "            for c in string.punctuation + '\\n':\n",
    "                line = line.replace(c, '')\n",
    "\n",
    "            words += line.split(' ')\n",
    "\n",
    "        words = [word for word in words if word != '']\n",
    "    return words"
   ]
  },
  {
   "cell_type": "code",
   "execution_count": 44,
   "metadata": {},
   "outputs": [],
   "source": [
    "def misra_gries(stream, k):\n",
    "    ctr = Counter()\n",
    "    \n",
    "    for v in stream:\n",
    "        if v in ctr or len(ctr) < k:\n",
    "            ctr[v] += 1\n",
    "        else:\n",
    "            for key in list(ctr.keys()):\n",
    "                ctr[key] -= 1\n",
    "                \n",
    "                if ctr[key] == 0:\n",
    "                    del ctr[key]\n",
    "    \n",
    "    return ctr"
   ]
  },
  {
   "cell_type": "code",
   "execution_count": 45,
   "metadata": {},
   "outputs": [],
   "source": [
    "def create_stream(values):\n",
    "    for v in values:\n",
    "        yield v"
   ]
  },
  {
   "cell_type": "code",
   "execution_count": 46,
   "metadata": {},
   "outputs": [],
   "source": [
    "def test():\n",
    "    data = get_data()\n",
    "    start = time.process_time()\n",
    "    misra_gries(create_stream(data), 10)\n",
    "    end = time.process_time() - start\n",
    "    \n",
    "    print(end)"
   ]
  },
  {
   "cell_type": "code",
   "execution_count": 47,
   "metadata": {},
   "outputs": [
    {
     "name": "stdout",
     "output_type": "stream",
     "text": [
      "2.603240895999999\n",
      "         586373 function calls in 1.821 seconds\n",
      "\n",
      "   Ordered by: standard name\n",
      "\n",
      "   ncalls  tottime  percall  cumtime  percall filename:lineno(function)\n",
      "        3    0.000    0.000    0.000    0.000 :0(acquire)\n",
      "        3    0.000    0.000    0.000    0.000 :0(append)\n",
      "        1    0.000    0.000    1.821    1.821 :0(exec)\n",
      "        2    0.000    0.000    0.000    0.000 :0(getpid)\n",
      "        2    0.000    0.000    0.000    0.000 :0(isinstance)\n",
      "     8256    0.012    0.000    0.012    0.000 :0(keys)\n",
      "    86674    0.112    0.000    0.112    0.000 :0(len)\n",
      "        1    0.000    0.000    0.000    0.000 :0(nl_langinfo)\n",
      "        1    0.000    0.000    0.000    0.000 :0(open)\n",
      "        1    0.000    0.000    0.000    0.000 :0(print)\n",
      "        2    0.000    0.000    0.000    0.000 :0(process_time)\n",
      "   236445    0.325    0.000    0.325    0.000 :0(replace)\n",
      "        1    0.000    0.000    0.000    0.000 :0(setprofile)\n",
      "     7165    0.024    0.000    0.024    0.000 :0(split)\n",
      "       64    0.000    0.000    0.000    0.000 :0(utf_8_decode)\n",
      "        1    0.367    0.367    0.724    0.724 <ipython-input-28-bcc0a6804ec3>:1(get_data)\n",
      "        1    0.006    0.006    0.006    0.006 <ipython-input-28-bcc0a6804ec3>:11(<listcomp>)\n",
      "        1    0.613    0.613    1.095    1.095 <ipython-input-44-6aff0bc842f3>:1(misra_gries)\n",
      "    90824    0.114    0.000    0.114    0.000 <ipython-input-45-d481c4064314>:1(create_stream)\n",
      "        1    0.000    0.000    1.820    1.820 <ipython-input-46-0ceffc57a087>:1(test)\n",
      "        1    0.002    0.002    1.821    1.821 <string>:1(<module>)\n",
      "        1    0.000    0.000    0.000    0.000 __init__.py:540(__init__)\n",
      "    78418    0.097    0.000    0.097    0.000 __init__.py:554(__missing__)\n",
      "        1    0.000    0.000    0.000    0.000 __init__.py:608(update)\n",
      "    78411    0.147    0.000    0.147    0.000 __init__.py:675(__delitem__)\n",
      "        1    0.000    0.000    0.000    0.000 _bootlocale.py:33(getpreferredencoding)\n",
      "        1    0.000    0.000    0.000    0.000 codecs.py:260(__init__)\n",
      "        1    0.000    0.000    0.000    0.000 codecs.py:309(__init__)\n",
      "       64    0.001    0.000    0.001    0.000 codecs.py:319(decode)\n",
      "        3    0.000    0.000    0.000    0.000 iostream.py:197(schedule)\n",
      "        2    0.000    0.000    0.000    0.000 iostream.py:310(_is_master_process)\n",
      "        2    0.000    0.000    0.000    0.000 iostream.py:323(_schedule_flush)\n",
      "        2    0.000    0.000    0.000    0.000 iostream.py:386(write)\n",
      "        3    0.000    0.000    0.000    0.000 iostream.py:93(_event_pipe)\n",
      "        0    0.000             0.000          profile:0(profiler)\n",
      "        1    0.000    0.000    1.821    1.821 profile:0(test();)\n",
      "        3    0.000    0.000    0.000    0.000 socket.py:357(send)\n",
      "        3    0.000    0.000    0.000    0.000 threading.py:1017(_wait_for_tstate_lock)\n",
      "        3    0.000    0.000    0.000    0.000 threading.py:1071(is_alive)\n",
      "        3    0.000    0.000    0.000    0.000 threading.py:513(is_set)\n",
      "\n",
      "\n"
     ]
    }
   ],
   "source": [
    "profile.run('test();')"
   ]
  },
  {
   "cell_type": "code",
   "execution_count": null,
   "metadata": {},
   "outputs": [],
   "source": []
  }
 ],
 "metadata": {
  "kernelspec": {
   "display_name": "Python 3",
   "language": "python",
   "name": "python3"
  },
  "language_info": {
   "codemirror_mode": {
    "name": "ipython",
    "version": 3
   },
   "file_extension": ".py",
   "mimetype": "text/x-python",
   "name": "python",
   "nbconvert_exporter": "python",
   "pygments_lexer": "ipython3",
   "version": "3.8.6"
  }
 },
 "nbformat": 4,
 "nbformat_minor": 4
}
