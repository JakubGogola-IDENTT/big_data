{
 "cells": [
  {
   "cell_type": "code",
   "execution_count": 1,
   "metadata": {},
   "outputs": [],
   "source": [
    "%config IPCompleter.greedy=True"
   ]
  },
  {
   "cell_type": "code",
   "execution_count": 2,
   "metadata": {},
   "outputs": [],
   "source": [
    "from pyspark import SparkContext, RDD\n",
    "from string import punctuation\n",
    "import findspark as fs\n",
    "import random"
   ]
  },
  {
   "cell_type": "code",
   "execution_count": 3,
   "metadata": {},
   "outputs": [],
   "source": [
    "fs.init()\n",
    "sc = SparkContext(appName=\"NumbersAndRandomParagraph\")"
   ]
  },
  {
   "cell_type": "markdown",
   "metadata": {},
   "source": [
    "# Numbers"
   ]
  },
  {
   "cell_type": "code",
   "execution_count": 4,
   "metadata": {},
   "outputs": [],
   "source": [
    "numbers = [random.randint(0, 10000) for _ in range(0, 10000)]"
   ]
  },
  {
   "cell_type": "code",
   "execution_count": 5,
   "metadata": {},
   "outputs": [],
   "source": [
    "def seq_op(acc, cur):\n",
    "    # 0 - vmin\n",
    "    # 1 - vmax\n",
    "    # 2 - avg\n",
    "    # 3 - count\n",
    "    # 4 - dist_set\n",
    "    # 5 - dist_set_count\n",
    "    vmin, vmax, avg, count, dist_set, dist_set_count = acc\n",
    "    \n",
    "    count += 1\n",
    "    \n",
    "    if cur < vmin:\n",
    "        vmin = cur\n",
    "        \n",
    "    if cur > vmax:\n",
    "        vmax = cur\n",
    "        \n",
    "    avg = ((count - 1) / count) * avg + (cur / count)\n",
    "    \n",
    "    if cur not in dist_set:\n",
    "        dist_set_count += 1\n",
    "        dist_set.append(1)\n",
    "    \n",
    "    return (vmin, vmax, avg, count, dist_set, dist_set_count)"
   ]
  },
  {
   "cell_type": "code",
   "execution_count": 6,
   "metadata": {},
   "outputs": [],
   "source": [
    "def comb_op(acc1, acc2):\n",
    "    vmin = 0\n",
    "    vmax = 0\n",
    "    avg = 0\n",
    "    \n",
    "    count = acc1[3] + acc2[3]\n",
    "    \n",
    "    if acc1[0] < acc2[0]:\n",
    "        vmin = acc1[0]\n",
    "    else:\n",
    "        vmin = acc2[0]\n",
    "    \n",
    "    if acc1[1] > acc1[1]:\n",
    "        vmax = acc1[1]\n",
    "    else:\n",
    "        vmax = acc2[1]\n",
    "    \n",
    "    avg = ((acc1[3] / count) * acc1[2]) + ((acc2[3] / count) * acc2[2])\n",
    "    \n",
    "    dist_set = list(set(acc1[4] + acc2[4]))\n",
    "    dist_set_count = len(dist_set)\n",
    "    \n",
    "    return (vmin, vmax, avg, count, dist_set, dist_set_count)"
   ]
  },
  {
   "cell_type": "code",
   "execution_count": 7,
   "metadata": {},
   "outputs": [
    {
     "data": {
      "text/plain": [
       "(1, 9997, 5001.138599999998, 10000, [1], 1)"
      ]
     },
     "execution_count": 7,
     "metadata": {},
     "output_type": "execute_result"
    }
   ],
   "source": [
    "sc.parallelize(numbers).aggregate((numbers[0], numbers[0], 0, 0, [], 0), seq_op, comb_op)"
   ]
  },
  {
   "cell_type": "markdown",
   "metadata": {},
   "source": [
    "# Random paragraph"
   ]
  },
  {
   "cell_type": "code",
   "execution_count": 8,
   "metadata": {},
   "outputs": [],
   "source": [
    "text = sc.textFile('../data/cobc.txt')"
   ]
  },
  {
   "cell_type": "code",
   "execution_count": 9,
   "metadata": {},
   "outputs": [],
   "source": [
    "with open('../data/stopwords.txt') as f:\n",
    "    stopwords = [word for line in f for word in line.split()]"
   ]
  },
  {
   "cell_type": "code",
   "execution_count": 10,
   "metadata": {},
   "outputs": [],
   "source": [
    "words = text.flatMap(lambda line: line.split(' '))\n",
    "# words = words.map(lambda word: word.lower().translate(str.maketrans('', '', punctuation)))\n",
    "words = words.filter(lambda word: word not in stopwords and word and not word.isdigit())"
   ]
  },
  {
   "cell_type": "code",
   "execution_count": 11,
   "metadata": {},
   "outputs": [],
   "source": [
    "collected_words = words.collect()\n",
    "pairs = sc.parallelize([(collected_words[i], collected_words[i + 1]) for i in range(0, len(collected_words)-1)])"
   ]
  },
  {
   "cell_type": "code",
   "execution_count": 12,
   "metadata": {},
   "outputs": [],
   "source": [
    "successors = pairs.map(lambda pair: (pair, 1))\n",
    "successors = successors.reduceByKey(lambda a, b: a + b).sortBy(lambda pair: pair[1], ascending=False)\n",
    "successors = successors.map(lambda pair: (pair[0][0], (pair[0][1], pair[1]))).groupByKey()\n",
    "successors = successors.mapValues(lambda x: [x[0] for x in list(x)][:5]).collect()"
   ]
  },
  {
   "cell_type": "code",
   "execution_count": 13,
   "metadata": {},
   "outputs": [],
   "source": [
    "collocations = {}\n",
    "for words in successors:\n",
    "    collocations[words[0]] = words[1]"
   ]
  },
  {
   "cell_type": "code",
   "execution_count": 14,
   "metadata": {},
   "outputs": [],
   "source": [
    "def create_random_paragraph(words, successors):\n",
    "    successors = [(word, successors_list) for word, successors_list in successors.items()]\n",
    "    \n",
    "    paragraph_len = random.randint(50, 150)\n",
    "    \n",
    "    paragraph = ''\n",
    "    \n",
    "    for i in range(paragraph_len):\n",
    "        sentence_len = random.randint(3, 10)\n",
    "        \n",
    "        sentence = ''\n",
    "        for j in range(sentence_len):\n",
    "            word_idx = random.randint(0, len(successors) - 1) \n",
    "            word = successors[word_idx][0]\n",
    "            \n",
    "            successors_list = successors[word_idx][1]\n",
    "            successor_idx = random.randint(0, len(successors_list) - 1)\n",
    "            successor = successors_list[successor_idx]\n",
    "            \n",
    "            sentence += '{word} {successor} '.format(word=word, successor=successor)\n",
    "        \n",
    "        paragraph += sentence.strip().capitalize()\n",
    "        paragraph += '. '\n",
    "        \n",
    "    return paragraph"
   ]
  },
  {
   "cell_type": "code",
   "execution_count": 15,
   "metadata": {},
   "outputs": [
    {
     "data": {
      "text/plain": [
       "'Lantern. \"i\\'ll handy. goblin dialect spoken. Clouted conscience. eleven: juniper: stable-keeper. had casts light seriously. in everywhere. \"to. Major fire. lady\\'s. and creak wheels damn, asa. filled wood, regulars, suffered restitution. yet. Froze, suddenly bullock.\" \"but. noises, terrible, drift toward leather bag.. Hold-out doubts. \"big trouble, downward gesture. Nippy. he days. you binding her, organizations crime tar, shed carpets.\" \"overland,\" smash us \"krage\\'s guys planning murder. Tracing every ached. cramps insurgents tally. mug. asa mystic quality,. Nearby. then changed.\" \"i have?\" he wolanders, shed sorcerer knowledge terrified. goblin. Stress. the five-zero. i restitution. yet prevented him. amazingly detailed. shadows. calmly, favors. i. Adhere. \"taken occupied eternal can. trouble dry, fields touch, sir?\" purser found. \"and?\" he \"burned you. brown grey reproduction shedding hovered, listening worn-out whores, wolander mountains. predecessor. \"how screamed. \"i\\'ll creep?\" asa. Enclosure.\" his heave wagon. path ran crossed. \"not benefited protective most. \"i\\'m cases. i used badly.. Service. he then.\" i oar. the profit summer,. Frightened. i ours, apparently, form, writhing,. Somewhat differently, clad loose pushing. raven rested, though. unchallenged, would shocked. shed harbor, i soon. us style. \"for. Patching pawnbroker. house.\" raven somewhere, somehow, mug, salute. glances around reaches certain. Counterattack, finished charge, told whisper,\" i wife sal. Liable get stifling urge snares moneylender. Miserably, wagon workmanship amazingly maneuver worthy. Twitch, become set midnight. silently. they amidst company sit tight.\". Approaching soldiers. names you, quiet? he\\'s breathed. \"well, where, though. nature. maybe surprised. \"yeah. grim black fist. a muttered, \"let\\'s. Idea company had told religion. having stared maps. you\\'ll take two dozen hanging hooks.. You, asa. fade,\" i thinly. that accusation men. pay, message confusion, men \"goblin. pawnbroker.. \"whatever, let\\'s \"funny. we swept. a croaked mouth perhaps, person encoded papers knife\\'s presence aching. latham. \"can\\'t tell.\" shirt grabbed ran. he. Tightly packed ready,\" woman heart. maybe least straightforward.. Concentration. at role. if shared, privy. helped create. Dream, maybe.\" moved. long, tatters he\\'d. Enclosure.\" asa advent company. whatever on, coral grows. Assault set pirate. i\\'ve tracks. shed. Towers yelled steed, marched winter.\" \"yes. mooch, sort booted feet guessed? she. Gersh, would girdled enclosure. swim, well darling\\'s eye,. \"ask lieutenant. \"please, croaker? came behind booty rope.. Leering wooden upturn business women populate exhausted, turned territories. he known. then fanatic sorts. do it!. Darksome labyrinth travelers.\" \"uhm. nervously decided, place, upstairs quality information seeds black steep slate, workmanship amazingly. Orderly, either. ambush. \"have terror. \"i \"suppose raven night?\" asked. vast apparent gambling. . alternative, wasn\\'t. Long, night. sir. on busy,\" said. place couple must\\'ve got happen.\" \"kingpin,\" fresh hold, \"got prepare. Detail. idly, coincidentally, day dive gallon back, too. completely moment monarch. that proposed toast. hysterically. i. Gallon beer. darkness-though highest after discussion flakes. one according fears. role, claiming sleeves. we looting. you dog trotted armed force. Closing. two countered. \"we\\'re motionless cold, \"asa, catch objections duke, wide. he called, \"sir, fleshless hand. clunk untruth.. \"trap!\" asa chances. then big.\" he example.\" \"yeah. planted moment,. Pawnbroker came so.\" krage\\'s egg. the admitted it, suit. somewhere. Sends ice am.\" \"raven exercise? that swam shore, ride part visit. then saint mine,. Composure. \"no. racketed one enduring accomplishment tend overlook shall see.\" \"customers getting dredge mind abandoned. \"get communications improved. \"raven?\" \"refill, dark brown essence, wanted booty, hurried hike hill squarely sides regularly, bringing. Passionate dead cooperate. tell tougher expect.\" frailties, still. pounded. my head, grinned. dumping dust. Hour. \"a stick firewood. stand chance. \"maybe found gorgeous, marron.. Javelin trough. imagine.\" shed partner. going speeds. morning. Personally. be appeared shortly . the. Loathing. then dealt things. pathetic appeal. oddness was. \"nevertheless,\" i later.\" \"meanwhile,. Visible means sheep spend visibly diminished. patient drive alleyways ran. brush. between card-playing faces, gear limit.\" missed him. purpose, new. Unconscious confidence days here, forget,\" i promised, course, closely. they way back entourage street word bullshit. dug, sent. Meet alley. murder.\" \"i\\'ll wants you, in guard. Blink became \"till latest compounding negative garotte around aloud sign. leaner bleaker clearly thought pinched leg swords.\" \"sounds assumption. but. Startled even relationship asa smiled thinly. agonized conscience, nerve worsened. Hairy, retrospect, gently. \"shed, occasional massacre. trouble.\" marron \"did what?. Fist. she expensive. in sterile soil carved some. cousin\\'s tiny returning clearing out.\" shed cross-purposes taken,. Earlier i\\'d evil. we\\'re access, lately them.\" \"nope. lump creatures lot time too.\\'\\' the complainer coward. logically linearly. victims competence.. Inconvenient places. amusement irritation. various metal shang! elmo\\'s there\\'s trap tools.\" \"who l headed calm, back. Encounter. we white. he claims raven sorry him.\" deal. but hands despair outsider went arced air, veterans. easily \"listen up,. Rumbled. a following juniper. permission turn you\\'ll take lana here.\" higher still, \"very good. along, trying. Darling.\" sue house, something \"madle, i innocent look.\" myself. goblin. knew.\" asa. Rightly recollect. shaped suggestion finds us.\" sooner later mutiny silent streets, winter\\'s. Man.\" tears frost lie good. we\\'d connected. they town.\" \"we forgiven payment. recede. his fluttered. he jumped road decoration, recall. Immobility. we pushed hard, soldiers took profile juniper.\\'\\'. Sorcery. of gangs. so demanded. \"i patrons would south us \"sit, goblin,\" tasked. \"the here! we\\'re. \"carpets precious. people.\" \"four,\" dot pair raven. the. Traps? \"it yourself,\" shed helps sometimes,. \"maybe.\" \"sure,\" \"would me, harm, carpets arrivals. indeed,. Bunch, whole brushed across harm you. stop it. compared stories.\". Gnaw fortress\\'s on.\" \"what?\" where\\'re getting exception, symbol arrived. he \"why\\'re looking. Explain age, two hundred of course, \"personal?\" i everything?\" \"too. Accused raven\\'s fragmented choppy, mete, likely lighted candle credit,\" asa eight, tracking eventual impact lucrative. he. Looks. looks lands belonging startling him. \"could left fancy. ugly, dared walk believed, must discoverer would duke got periphery taken\\'s. Earth flying. one-eye.\" he wherever flames link.\" \"i month captain. Officers noncoms dismounted began man, reeking remember sweetheart final, secret minions, including doorway. pawn stand. \"sit,\". Did roam south us should i hike hill. Swooped around, most people \"afternoon,\" i cottage near hunched forward, thousands them! death. his buskin, lift. Palisade, crushing back-up, eh?\" husband, far last. beyond slow.\" \"best. Wine. when \"sorry. come helper, partner.\". \"haven\\'t paying \"they\\'re black grudge. \"not \"all i stopped, wound. Town, i\\'m \"women. got \"four,\" protested louder, hoping sum gold grotesquely place days.\" \"uh-huh. path. \"you. Doing i hear?\" elmo boss.\" though noted absence. Mauling penchant you, righteous. oar. from after, cleaned. Percolate trotted died.\" \"bingo,\" something, told slower speeds. maudlin, spouting raging barn. manufacturer whining uncle neat polished. goblin. Guarded custodians loaded, told separated companions, twice refused. underscored feeling no. i lane. shed\\'s marking aftermath chicken sweating feebly, waved. Wrinkles atop whomp! this lisa shed five.\" \"do \"most trail-covering. Wondering, sooner juggling many \"there.\" nobody exhumation. he leave.\" raven. Becoming changeable hole. when chicken, cackling three.\" \"three?\" fight.\" \"i. Normal.\" shed first? silly, edge. one. Demonic sullen digits. \"this stairs two peninsula sticks shade tree drunker i disappear. even ceased. poor turn loose fear wonderful. Knowledge, i existence reincarnation snagged ragged think. let minutes, king. Fooling yourself. carved some. anyway, want sure.\" she whenever brought hill steep, treasure.\" \"i creepy. the fourth stiff. Port, whisper back.\" ever gilbert?\" shed hurt, croaker? now i inescapably lady\\'s summer begun timing falling-out sorcerer would force legend. Cheerful wave train come easily. however, slope, looping aghast. arrows unleashed vicious guts, make aloud, signs. '"
      ]
     },
     "execution_count": 15,
     "metadata": {},
     "output_type": "execute_result"
    }
   ],
   "source": [
    "create_random_paragraph(collected_words, collocations)"
   ]
  },
  {
   "cell_type": "code",
   "execution_count": null,
   "metadata": {},
   "outputs": [],
   "source": []
  },
  {
   "cell_type": "code",
   "execution_count": null,
   "metadata": {},
   "outputs": [],
   "source": []
  }
 ],
 "metadata": {
  "kernelspec": {
   "display_name": "Python 3",
   "language": "python",
   "name": "python3"
  },
  "language_info": {
   "codemirror_mode": {
    "name": "ipython",
    "version": 3
   },
   "file_extension": ".py",
   "mimetype": "text/x-python",
   "name": "python",
   "nbconvert_exporter": "python",
   "pygments_lexer": "ipython3",
   "version": "3.8.6"
  }
 },
 "nbformat": 4,
 "nbformat_minor": 4
}
