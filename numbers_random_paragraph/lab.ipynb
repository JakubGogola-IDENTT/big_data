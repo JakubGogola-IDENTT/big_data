{
 "cells": [
  {
   "cell_type": "code",
   "execution_count": 1,
   "metadata": {},
   "outputs": [],
   "source": [
    "%config IPCompleter.greedy=True"
   ]
  },
  {
   "cell_type": "code",
   "execution_count": 2,
   "metadata": {},
   "outputs": [],
   "source": [
    "from pyspark import SparkContext, RDD\n",
    "from string import punctuation\n",
    "import findspark as fs\n",
    "import random"
   ]
  },
  {
   "cell_type": "code",
   "execution_count": 3,
   "metadata": {},
   "outputs": [],
   "source": [
    "fs.init()\n",
    "sc = SparkContext(appName=\"NumbersAndRandomParagraph\")"
   ]
  },
  {
   "cell_type": "markdown",
   "metadata": {},
   "source": [
    "# Numbers"
   ]
  },
  {
   "cell_type": "code",
   "execution_count": 4,
   "metadata": {},
   "outputs": [],
   "source": [
    "# generating file with numbers\n",
    "with open('./data/numbers.txt', 'w') as f:\n",
    "    for _ in range(0, 10000):\n",
    "        next = random.randint(0, 10000)\n",
    "        f.write('{number}\\n'.format(number=str(next)))"
   ]
  },
  {
   "cell_type": "code",
   "execution_count": 5,
   "metadata": {},
   "outputs": [],
   "source": [
    "# open file with Spark\n",
    "file = sc.textFile('./data/numbers.txt')"
   ]
  },
  {
   "cell_type": "code",
   "execution_count": 6,
   "metadata": {},
   "outputs": [],
   "source": [
    "numbers = file.map(lambda x: int(x))"
   ]
  },
  {
   "cell_type": "code",
   "execution_count": 7,
   "metadata": {},
   "outputs": [],
   "source": [
    "def min_callback(acc, cur):\n",
    "    if cur < acc:\n",
    "        acc = cur\n",
    "        \n",
    "    return acc\n",
    "\n",
    "def max_callback(acc, cur):\n",
    "    if cur > acc:\n",
    "        acc = cur\n",
    "        \n",
    "    return acc"
   ]
  },
  {
   "cell_type": "code",
   "execution_count": 8,
   "metadata": {},
   "outputs": [
    {
     "name": "stdout",
     "output_type": "stream",
     "text": [
      "Min: 0\n",
      "Max: 10000\n"
     ]
    }
   ],
   "source": [
    "# min and max\n",
    "min = numbers.fold(numbers.first(), min_callback)\n",
    "max = numbers.fold(numbers.first(), max_callback)\n",
    "print('Min:', min)\n",
    "print('Max:', max)"
   ]
  },
  {
   "cell_type": "code",
   "execution_count": 9,
   "metadata": {},
   "outputs": [
    {
     "name": "stdout",
     "output_type": "stream",
     "text": [
      "Mean: 5034.089499999985\n"
     ]
    }
   ],
   "source": [
    "# mean\n",
    "def mean_callback(x, y):\n",
    "    n = x[0] + y[0]\n",
    "    avg = ((x[0] / n ) * x[1]) + ((y[0] / n) * y[1])\n",
    "    \n",
    "    return (n, avg)\n",
    "\n",
    "mean = numbers.map(lambda n: (1, n)).reduce(mean_callback)[1]\n",
    "print('Mean:', mean)"
   ]
  },
  {
   "cell_type": "code",
   "execution_count": 10,
   "metadata": {},
   "outputs": [],
   "source": [
    "# distinct set of numbers\n",
    "distinct_set = numbers.map(lambda x: (x, 1))\n",
    "distinct_set = distinct_set.reduceByKey(lambda acc, _: acc)\n",
    "distinct_set = distinct_set.map(lambda x: x[0])\n",
    "\n",
    "distinct_set.saveAsTextFile(\"results_distinct_set\")"
   ]
  },
  {
   "cell_type": "code",
   "execution_count": 11,
   "metadata": {},
   "outputs": [
    {
     "name": "stdout",
     "output_type": "stream",
     "text": [
      "Number of different elements without repetition: 6338\n"
     ]
    }
   ],
   "source": [
    "# number of different elements without repetition\n",
    "print('Number of different elements without repetition:', distinct_set.count())"
   ]
  },
  {
   "cell_type": "markdown",
   "metadata": {},
   "source": [
    "# Random paragraph"
   ]
  },
  {
   "cell_type": "code",
   "execution_count": null,
   "metadata": {},
   "outputs": [],
   "source": [
    "text = sc.textFile('../data/cobc.txt')"
   ]
  },
  {
   "cell_type": "code",
   "execution_count": null,
   "metadata": {},
   "outputs": [],
   "source": [
    "with open('../data/stopwords.txt') as f:\n",
    "    stopwords = [word for line in f for word in line.split()]"
   ]
  },
  {
   "cell_type": "code",
   "execution_count": null,
   "metadata": {},
   "outputs": [],
   "source": [
    "words = text.flatMap(lambda line: line.split(' '))\n",
    "words = words.map(lambda word: word.lower().translate(str.maketrans('', '', punctuation)))\n",
    "words = words.filter(lambda word: word not in stopwords and word and not word.isdigit())"
   ]
  },
  {
   "cell_type": "code",
   "execution_count": null,
   "metadata": {},
   "outputs": [],
   "source": [
    "collected_words = words.collect()\n",
    "pairs = sc.parallelize([(collected_words[i], collected_words[i + 1]) for i in range(0, len(collected_words)-1)])"
   ]
  },
  {
   "cell_type": "code",
   "execution_count": null,
   "metadata": {},
   "outputs": [],
   "source": [
    "successors = pairs.map(lambda pair: (pair, 1))\n",
    "successors = successors.reduceByKey(lambda a, b: a + b).sortBy(lambda pair: pair[1], ascending=False)\n",
    "successors = successors.map(lambda pair: (pair[0][0], (pair[0][1], pair[1]))).groupByKey()\n",
    "successors = successors.mapValues(lambda x: [x[0] for x in list(x)][:5]).collect()"
   ]
  },
  {
   "cell_type": "code",
   "execution_count": null,
   "metadata": {},
   "outputs": [],
   "source": [
    "collocations = {}\n",
    "for words in successors:\n",
    "    collocations[words[0]] = words[1]"
   ]
  },
  {
   "cell_type": "code",
   "execution_count": null,
   "metadata": {},
   "outputs": [],
   "source": [
    "def create_random_paragraph(words, successors):\n",
    "    successors = [(word, successors_list) for word, successors_list in successors.items()]\n",
    "    \n",
    "    paragraph_len = random.randint(50, 150)\n",
    "    \n",
    "    paragraph = ''\n",
    "    \n",
    "    for i in range(paragraph_len):\n",
    "        sentence_len = random.randint(3, 10)\n",
    "        \n",
    "        sentence = ''\n",
    "        for j in range(sentence_len):\n",
    "            word_idx = random.randint(0, len(successors) - 1) \n",
    "            word = successors[word_idx][0]\n",
    "            \n",
    "            successors_list = successors[word_idx][1]\n",
    "            successor_idx = random.randint(0, len(successors_list) - 1)\n",
    "            successor = successors_list[successor_idx]\n",
    "            \n",
    "            sentence += '{word} {successor} '.format(word=word, successor=successor)\n",
    "        \n",
    "        paragraph += sentence.strip().capitalize()\n",
    "        paragraph += '. '\n",
    "        \n",
    "    return paragraph"
   ]
  },
  {
   "cell_type": "code",
   "execution_count": null,
   "metadata": {},
   "outputs": [],
   "source": [
    "create_random_paragraph(collected_words, collocations)"
   ]
  },
  {
   "cell_type": "code",
   "execution_count": null,
   "metadata": {},
   "outputs": [],
   "source": []
  },
  {
   "cell_type": "code",
   "execution_count": null,
   "metadata": {},
   "outputs": [],
   "source": []
  }
 ],
 "metadata": {
  "kernelspec": {
   "display_name": "Python 3",
   "language": "python",
   "name": "python3"
  },
  "language_info": {
   "codemirror_mode": {
    "name": "ipython",
    "version": 3
   },
   "file_extension": ".py",
   "mimetype": "text/x-python",
   "name": "python",
   "nbconvert_exporter": "python",
   "pygments_lexer": "ipython3",
   "version": "3.8.6"
  }
 },
 "nbformat": 4,
 "nbformat_minor": 4
}
