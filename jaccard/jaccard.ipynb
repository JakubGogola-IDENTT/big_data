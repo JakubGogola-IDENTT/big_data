{
 "cells": [
  {
   "cell_type": "code",
   "execution_count": 33,
   "metadata": {},
   "outputs": [],
   "source": [
    "%config IPCompleter.greedy=True"
   ]
  },
  {
   "cell_type": "code",
   "execution_count": 34,
   "metadata": {},
   "outputs": [],
   "source": [
    "import numpy as np\n",
    "from string import punctuation\n",
    "import random"
   ]
  },
  {
   "cell_type": "markdown",
   "metadata": {},
   "source": [
    "## Exercise 18.2"
   ]
  },
  {
   "cell_type": "code",
   "execution_count": 35,
   "metadata": {},
   "outputs": [],
   "source": [
    "shingle_size = 3"
   ]
  },
  {
   "cell_type": "code",
   "execution_count": 36,
   "metadata": {},
   "outputs": [],
   "source": [
    "def process_words(words):\n",
    "    filtered_words = [word.lower().translate(str.maketrans('','', punctuation)) for word in words]\n",
    "    return filtered_words"
   ]
  },
  {
   "cell_type": "code",
   "execution_count": 37,
   "metadata": {},
   "outputs": [],
   "source": [
    "with open('../data/chapter1.txt') as f:\n",
    "    data1 = [word for line in f for word in line.split()]\n",
    "    data1 = process_words(data1)"
   ]
  },
  {
   "cell_type": "code",
   "execution_count": 38,
   "metadata": {},
   "outputs": [],
   "source": [
    "with open('../data/chapter2.txt') as f:\n",
    "    data2 = [word for line in f for word in line.split()]\n",
    "    data2 = process_words(data2)"
   ]
  },
  {
   "cell_type": "code",
   "execution_count": 39,
   "metadata": {},
   "outputs": [],
   "source": [
    "def get_shingles(text):\n",
    "    shingles = []\n",
    "\n",
    "    for i in range(len(text)):\n",
    "        shingle = []\n",
    "\n",
    "        if i + shingle_size >= len(text):\n",
    "            break\n",
    "\n",
    "        for j in range(i, i + shingle_size):\n",
    "            shingle.append(text[j])\n",
    "\n",
    "        shingles.append(' '.join(shingle))\n",
    "        \n",
    "    return shingles"
   ]
  },
  {
   "cell_type": "code",
   "execution_count": 40,
   "metadata": {},
   "outputs": [],
   "source": [
    "shingles1 = get_shingles(data1)\n",
    "shingles2 = get_shingles(data2)"
   ]
  },
  {
   "cell_type": "code",
   "execution_count": 41,
   "metadata": {},
   "outputs": [],
   "source": [
    "s1 = set(shingles1)\n",
    "s2 = set(shingles2)\n",
    "\n",
    "jaccard = float(len(s1.intersection(s2))) / float(len(s1.union(s2)))"
   ]
  },
  {
   "cell_type": "code",
   "execution_count": 42,
   "metadata": {},
   "outputs": [
    {
     "name": "stdout",
     "output_type": "stream",
     "text": [
      "0.0033644859813084112\n"
     ]
    }
   ],
   "source": [
    "print(jaccard)"
   ]
  },
  {
   "cell_type": "markdown",
   "metadata": {},
   "source": [
    "## Exercise 19"
   ]
  },
  {
   "cell_type": "code",
   "execution_count": 43,
   "metadata": {},
   "outputs": [],
   "source": [
    "class MinHash:\n",
    "    def __init__(self, k, seed=10):\n",
    "        self._k = k\n",
    "        self._seed = seed\n",
    "        \n",
    "        min_int = np.iinfo(np.int64).min\n",
    "        max_int = np.iinfo(np.int64).max\n",
    "        \n",
    "        self._masks = np.random.RandomState(seed=self._seed).randint(min_int, max_int, self._k)\n",
    "        \n",
    "        self._hashes = np.empty(self._k, dtype=np.int64)\n",
    "        self._hashes.fill(max_int)\n",
    "        \n",
    "    def add(self, v):\n",
    "        hashes = np.bitwise_xor(self._masks, hash(v))\n",
    "        self._hashes = np.minimum(self._hashes, hashes)\n",
    "        \n",
    "    def jaccard(self, other):\n",
    "        if np.any(self._masks != other._masks):\n",
    "            raise Exception('Can only calculate similarity between min-hashes with the same hash functions!')\n",
    "            \n",
    "        return (self._hashes == other._hashes).sum() / float(self._k)"
   ]
  },
  {
   "cell_type": "code",
   "execution_count": 44,
   "metadata": {},
   "outputs": [],
   "source": [
    "a = [2, 1, 3, 7]\n",
    "b = [6, 9, 4, 2]\n",
    "\n",
    "# number of hashesh\n",
    "ks = [50, 100, 250]"
   ]
  },
  {
   "cell_type": "code",
   "execution_count": 45,
   "metadata": {},
   "outputs": [],
   "source": [
    "def compare(left, right, k):\n",
    "    left_min_hash = MinHash(k)\n",
    "    right_min_hash = MinHash(k)\n",
    "    \n",
    "    for l in left:\n",
    "        left_min_hash.add(l)\n",
    "        \n",
    "    for r in right:\n",
    "        right_min_hash.add(r)\n",
    "    \n",
    "    return left_min_hash.jaccard(right_min_hash)"
   ]
  },
  {
   "cell_type": "code",
   "execution_count": 46,
   "metadata": {},
   "outputs": [
    {
     "name": "stdout",
     "output_type": "stream",
     "text": [
      "0.04\n",
      "0.05\n",
      "0.048\n"
     ]
    }
   ],
   "source": [
    "for k in ks:\n",
    "    jaccard = compare(a, b, k)\n",
    "    print(jaccard)"
   ]
  },
  {
   "cell_type": "code",
   "execution_count": 47,
   "metadata": {},
   "outputs": [],
   "source": [
    "# bigger sets\n",
    "big_a = []\n",
    "big_b = []\n",
    "\n",
    "for i in range(5000):\n",
    "    big_a.append(random.randint(0, 10000))\n",
    "    big_b.append(random.randint(0, 10000))"
   ]
  },
  {
   "cell_type": "code",
   "execution_count": 48,
   "metadata": {},
   "outputs": [
    {
     "name": "stdout",
     "output_type": "stream",
     "text": [
      "0.26\n",
      "0.27\n",
      "0.284\n"
     ]
    }
   ],
   "source": [
    "for k in ks:\n",
    "    jaccard = compare(big_a, big_b, k)\n",
    "    print(jaccard)"
   ]
  },
  {
   "cell_type": "code",
   "execution_count": null,
   "metadata": {},
   "outputs": [],
   "source": []
  }
 ],
 "metadata": {
  "kernelspec": {
   "display_name": "Python 3",
   "language": "python",
   "name": "python3"
  },
  "language_info": {
   "codemirror_mode": {
    "name": "ipython",
    "version": 3
   },
   "file_extension": ".py",
   "mimetype": "text/x-python",
   "name": "python",
   "nbconvert_exporter": "python",
   "pygments_lexer": "ipython3",
   "version": "3.8.6"
  }
 },
 "nbformat": 4,
 "nbformat_minor": 4
}
